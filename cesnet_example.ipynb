{
  "nbformat": 4,
  "nbformat_minor": 0,
  "metadata": {
    "colab": {
      "name": "cesnet_example.ipynb",
      "provenance": [],
      "collapsed_sections": [],
      "authorship_tag": "ABX9TyOrNvm76EHfvoOC5GrLpgMB"
    },
    "kernelspec": {
      "name": "python3",
      "display_name": "Python 3"
    },
    "language_info": {
      "name": "python"
    }
  },
  "cells": [
    {
      "cell_type": "code",
      "metadata": {
        "id": "6hYk2Z1nS-gj"
      },
      "source": [
        "#!pip install sddk\n",
        "import sddk # our package, if missing, uncomment the previous line\n",
        "import requests\n",
        "import getpass\n",
        "from requests_oauthlib import OAuth1"
      ],
      "execution_count": 37,
      "outputs": []
    },
    {
      "cell_type": "markdown",
      "metadata": {
        "id": "FXR7zoy1hpdd"
      },
      "source": [
        "### SDDK session with ownCloud@CESNET.CZ\n",
        "* login to ownCloud@CESNET.CZ webinterface (if you are there for the first time, you need to create an account)\n",
        "* click on **Settings** in the lower left corner and copy the URL address and use it below as value of the `url` variable - this is URL address of your home folder.\n",
        "* go to `Settings` (under your name in the upper right corner)\n",
        "* on the left panel, choose `Security`\n",
        "* go to **App passwords / tokens** section, choose some app name and click on **Create new app passcode**\n",
        "* copy the generated **Username** and **Password / Token** and insert them interactively below.\n",
        "\n"
      ]
    },
    {
      "cell_type": "code",
      "metadata": {
        "colab": {
          "base_uri": "https://localhost:8080/"
        },
        "id": "TyvBndg2dAH7",
        "outputId": "9fcf69a8-6814-4286-ca5a-f077ef31509f"
      },
      "source": [
        "# accessing owncloud.cesnet.cz with sddk package\n",
        "user = input(\"Insert your Username code (a long string of characters and numbers): \")\n",
        "password = getpass.getpass(\"Insert your Password: \")\n",
        "s = requests.Session() # create session\n",
        "s.auth = (user, password) # use the credentials to authorize the session "
      ],
      "execution_count": 38,
      "outputs": [
        {
          "output_type": "stream",
          "text": [
            "Insert your Username code (a long string of characters and numbers): 1fcd50da27c3473f1479718327a43e1a5426eac1\n",
            "Insert your Password: ··········\n"
          ],
          "name": "stdout"
        }
      ]
    },
    {
      "cell_type": "markdown",
      "metadata": {
        "id": "yB3bIzmAwMnQ"
      },
      "source": [
        "* go back to the main site\n",
        "* click on **Settings** in the lower left corner and copy the URL address there and insert it below as value of the url variable - this is URL address of your home folder.\n",
        "* running the code below, you use your session to create authorited access to the URL"
      ]
    },
    {
      "cell_type": "code",
      "metadata": {
        "id": "o1Sw8_3LwLE5"
      },
      "source": [
        "url = \"https://owncloud.cesnet.cz/remote.php/dav/files/1fcd50da27c3473f1479718327a43e1a5426eac1/\"\n",
        "conf = (s, url) # pair your session and home url"
      ],
      "execution_count": 44,
      "outputs": []
    },
    {
      "cell_type": "code",
      "metadata": {
        "id": "T53wPQaFuu6V"
      },
      "source": [
        "# create a test string variable to be used for creation of a test text file\n",
        "teststring = \"This is content of a sting which will be send to owncloud as a textfile.\""
      ],
      "execution_count": 45,
      "outputs": []
    },
    {
      "cell_type": "code",
      "metadata": {
        "colab": {
          "base_uri": "https://localhost:8080/"
        },
        "id": "shhaVK6RqGW0",
        "outputId": "736648f4-2c06-484a-c9f3-455faae6e2a5"
      },
      "source": [
        "# sending file to the main directory?\n",
        "sddk.write_file(\"newtextfile.txt\", teststring, conf)"
      ],
      "execution_count": 46,
      "outputs": [
        {
          "output_type": "stream",
          "text": [
            "Your <class 'str'> object has been succefully written as \"https://owncloud.cesnet.cz/remote.php/dav/files/1fcd50da27c3473f1479718327a43e1a5426eac1/newtextfile.txt\"\n"
          ],
          "name": "stdout"
        }
      ]
    },
    {
      "cell_type": "code",
      "metadata": {
        "colab": {
          "base_uri": "https://localhost:8080/"
        },
        "id": "zUL4OgypqbuG",
        "outputId": "ea17d225-132c-49c1-e431-981b2a61c5ac"
      },
      "source": [
        "# reading the file back into your python environment\n",
        "teststring_back = sddk.read_file(\"newtextfile.txt\", \"str\", conf)\n",
        "print(teststring_back)"
      ],
      "execution_count": 48,
      "outputs": [
        {
          "output_type": "stream",
          "text": [
            "This is content of a sting which will be send to owncloud as a textfile.\n"
          ],
          "name": "stdout"
        }
      ]
    }
  ]
}