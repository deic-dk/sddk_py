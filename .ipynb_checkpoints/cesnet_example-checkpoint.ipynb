{
 "cells": [
  {
   "cell_type": "code",
   "execution_count": 1,
   "metadata": {
    "id": "6hYk2Z1nS-gj"
   },
   "outputs": [],
   "source": [
    "#!pip install sddk\n",
    "import sddk # our package, if missing, uncomment the previous line\n",
    "import requests\n",
    "import getpass\n",
    "from requests_oauthlib import OAuth1"
   ]
  },
  {
   "cell_type": "markdown",
   "metadata": {
    "id": "FXR7zoy1hpdd"
   },
   "source": [
    "### SDDK session with ownCloud@CESNET.CZ\n",
    "* login to ownCloud@CESNET.CZ webinterface (if you are there for the first time, you need to create an account)\n",
    "* click on your name in the upper right corner and go to `Settings` \n",
    "* on the left side, choose `Security`\n",
    "* go to **App passwords / tokens** section, choose some app name and click on **Create new app passcode**\n",
    "* copy the generated **Username** and **Password / Token** and insert them interactively below."
   ]
  },
  {
   "cell_type": "code",
   "execution_count": 2,
   "metadata": {
    "colab": {
     "base_uri": "https://localhost:8080/"
    },
    "id": "TyvBndg2dAH7",
    "outputId": "9fcf69a8-6814-4286-ca5a-f077ef31509f"
   },
   "outputs": [
    {
     "name": "stdin",
     "output_type": "stream",
     "text": [
      "Insert your Username code (a long string of characters and numbers):  1fcd50da27c3473f1479718327a43e1a5426eac1\n",
      "Insert your Password:  ·······················\n"
     ]
    }
   ],
   "source": [
    "# accessing owncloud.cesnet.cz with sddk package\n",
    "user = input(\"Insert your Username code (a long string of characters and numbers): \")\n",
    "password = getpass.getpass(\"Insert your Password: \")\n",
    "s = requests.Session() # create session\n",
    "s.auth = (user, password) # use the credentials to authorize the session "
   ]
  },
  {
   "cell_type": "markdown",
   "metadata": {
    "id": "yB3bIzmAwMnQ"
   },
   "source": [
    "* go back to the main site\n",
    "* click on **Settings** in the lower left corner\n",
    "* copy the URL address there and insert it below as value of the `url` variable - this is URL address of your home folder."
   ]
  },
  {
   "cell_type": "code",
   "execution_count": 3,
   "metadata": {
    "id": "o1Sw8_3LwLE5"
   },
   "outputs": [],
   "source": [
    "url = \"https://owncloud.cesnet.cz/remote.php/dav/files/1fcd50da27c3473f1479718327a43e1a5426eac1/\"\n",
    "conf = (s, url) # pair your session and home url"
   ]
  },
  {
   "cell_type": "markdown",
   "metadata": {
    "id": "e-cw7gsMz63u"
   },
   "source": [
    "Now you have your `conf` variable, which contains your authorized session paired with the home url."
   ]
  },
  {
   "cell_type": "markdown",
   "metadata": {
    "id": "UMBpQAouz2Rw"
   },
   "source": [
    "# Test"
   ]
  },
  {
   "cell_type": "markdown",
   "metadata": {},
   "source": [
    "#### String object to text file and back"
   ]
  },
  {
   "cell_type": "code",
   "execution_count": null,
   "metadata": {
    "id": "T53wPQaFuu6V"
   },
   "outputs": [],
   "source": [
    "# create a test string variable to be used for creation of a test text file\n",
    "teststring = \"This is content of a sting which will be send to owncloud as a textfile.\""
   ]
  },
  {
   "cell_type": "code",
   "execution_count": null,
   "metadata": {
    "colab": {
     "base_uri": "https://localhost:8080/"
    },
    "id": "shhaVK6RqGW0",
    "outputId": "736648f4-2c06-484a-c9f3-455faae6e2a5"
   },
   "outputs": [
    {
     "name": "stdout",
     "output_type": "stream",
     "text": [
      "Your <class 'str'> object has been succefully written as \"https://owncloud.cesnet.cz/remote.php/dav/files/1fcd50da27c3473f1479718327a43e1a5426eac1/newtextfile.txt\"\n"
     ]
    }
   ],
   "source": [
    "# sending file to the main directory?\n",
    "sddk.write_file(\"newtextfile.txt\", teststring, conf)"
   ]
  },
  {
   "cell_type": "code",
   "execution_count": null,
   "metadata": {
    "colab": {
     "base_uri": "https://localhost:8080/"
    },
    "id": "zUL4OgypqbuG",
    "outputId": "ea17d225-132c-49c1-e431-981b2a61c5ac"
   },
   "outputs": [
    {
     "name": "stdout",
     "output_type": "stream",
     "text": [
      "This is content of a sting which will be send to owncloud as a textfile.\n"
     ]
    }
   ],
   "source": [
    "# reading the file back into your python environment\n",
    "teststring_back = sddk.read_file(\"newtextfile.txt\", \"str\", conf)\n",
    "print(teststring_back)"
   ]
  },
  {
   "cell_type": "markdown",
   "metadata": {},
   "source": [
    "#### Pandas DataFrame to json and back"
   ]
  },
  {
   "cell_type": "code",
   "execution_count": 4,
   "metadata": {},
   "outputs": [],
   "source": [
    "import pandas as pd"
   ]
  },
  {
   "cell_type": "code",
   "execution_count": 5,
   "metadata": {},
   "outputs": [
    {
     "data": {
      "text/html": [
       "<div>\n",
       "<style scoped>\n",
       "    .dataframe tbody tr th:only-of-type {\n",
       "        vertical-align: middle;\n",
       "    }\n",
       "\n",
       "    .dataframe tbody tr th {\n",
       "        vertical-align: top;\n",
       "    }\n",
       "\n",
       "    .dataframe thead th {\n",
       "        text-align: right;\n",
       "    }\n",
       "</style>\n",
       "<table border=\"1\" class=\"dataframe\">\n",
       "  <thead>\n",
       "    <tr style=\"text-align: right;\">\n",
       "      <th></th>\n",
       "      <th>a</th>\n",
       "      <th>b</th>\n",
       "      <th>c</th>\n",
       "    </tr>\n",
       "  </thead>\n",
       "  <tbody>\n",
       "    <tr>\n",
       "      <th>0</th>\n",
       "      <td>a1</td>\n",
       "      <td>b1</td>\n",
       "      <td>c1</td>\n",
       "    </tr>\n",
       "    <tr>\n",
       "      <th>1</th>\n",
       "      <td>a2</td>\n",
       "      <td>b2</td>\n",
       "      <td>c2</td>\n",
       "    </tr>\n",
       "  </tbody>\n",
       "</table>\n",
       "</div>"
      ],
      "text/plain": [
       "    a   b   c\n",
       "0  a1  b1  c1\n",
       "1  a2  b2  c2"
      ]
     },
     "execution_count": 5,
     "metadata": {},
     "output_type": "execute_result"
    }
   ],
   "source": [
    "dataframe_object = pd.DataFrame([(\"a1\", \"b1\", \"c1\"), (\"a2\", \"b2\", \"c2\")], columns=[\"a\", \"b\", \"c\"]) \n",
    "dataframe_object"
   ]
  },
  {
   "cell_type": "code",
   "execution_count": 6,
   "metadata": {},
   "outputs": [
    {
     "name": "stdout",
     "output_type": "stream",
     "text": [
      "Your <class 'pandas.core.frame.DataFrame'> object has been succefully written as \"https://owncloud.cesnet.cz/remote.php/dav/files/1fcd50da27c3473f1479718327a43e1a5426eac1/test_dataframe.json\"\n"
     ]
    }
   ],
   "source": [
    "# send to owncloud\n",
    "sddk.write_file(\"test_dataframe.json\", dataframe_object, conf)"
   ]
  },
  {
   "cell_type": "code",
   "execution_count": 7,
   "metadata": {},
   "outputs": [
    {
     "data": {
      "text/html": [
       "<div>\n",
       "<style scoped>\n",
       "    .dataframe tbody tr th:only-of-type {\n",
       "        vertical-align: middle;\n",
       "    }\n",
       "\n",
       "    .dataframe tbody tr th {\n",
       "        vertical-align: top;\n",
       "    }\n",
       "\n",
       "    .dataframe thead th {\n",
       "        text-align: right;\n",
       "    }\n",
       "</style>\n",
       "<table border=\"1\" class=\"dataframe\">\n",
       "  <thead>\n",
       "    <tr style=\"text-align: right;\">\n",
       "      <th></th>\n",
       "      <th>a</th>\n",
       "      <th>b</th>\n",
       "      <th>c</th>\n",
       "    </tr>\n",
       "  </thead>\n",
       "  <tbody>\n",
       "    <tr>\n",
       "      <th>0</th>\n",
       "      <td>a1</td>\n",
       "      <td>b1</td>\n",
       "      <td>c1</td>\n",
       "    </tr>\n",
       "    <tr>\n",
       "      <th>1</th>\n",
       "      <td>a2</td>\n",
       "      <td>b2</td>\n",
       "      <td>c2</td>\n",
       "    </tr>\n",
       "  </tbody>\n",
       "</table>\n",
       "</div>"
      ],
      "text/plain": [
       "    a   b   c\n",
       "0  a1  b1  c1\n",
       "1  a2  b2  c2"
      ]
     },
     "execution_count": 7,
     "metadata": {},
     "output_type": "execute_result"
    }
   ],
   "source": [
    "# read it back\n",
    "dataframe_back = sddk.read_file(\"test_dataframe.json\", \"df\", conf)\n",
    "dataframe_back"
   ]
  },
  {
   "cell_type": "code",
   "execution_count": null,
   "metadata": {},
   "outputs": [],
   "source": []
  }
 ],
 "metadata": {
  "colab": {
   "authorship_tag": "ABX9TyOkMCIuhKaZW4UBxTky4Xe+",
   "collapsed_sections": [],
   "name": "cesnet_example.ipynb",
   "provenance": []
  },
  "kernelspec": {
   "display_name": "Python 3",
   "language": "python",
   "name": "python3"
  },
  "language_info": {
   "codemirror_mode": {
    "name": "ipython",
    "version": 3
   },
   "file_extension": ".py",
   "mimetype": "text/x-python",
   "name": "python",
   "nbconvert_exporter": "python",
   "pygments_lexer": "ipython3",
   "version": "3.6.8"
  }
 },
 "nbformat": 4,
 "nbformat_minor": 4
}
