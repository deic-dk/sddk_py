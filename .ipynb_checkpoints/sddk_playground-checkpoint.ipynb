{
 "cells": [
  {
   "cell_type": "markdown",
   "metadata": {},
   "source": [
    "# Test package locally"
   ]
  },
  {
   "cell_type": "code",
   "execution_count": null,
   "metadata": {},
   "outputs": [],
   "source": [
    "#import requests\n",
    "#import os\n",
    "#import pandas as pd\n",
    "#import json\n",
    "#import getpass\n",
    "#import io\n",
    "#from requests.adapters import HTTPAdapter\n",
    "#from requests.packages.urllib3.util.retry import Retry"
   ]
  },
  {
   "cell_type": "code",
   "execution_count": 1,
   "metadata": {},
   "outputs": [],
   "source": [
    "import sddk\n",
    "from importlib import reload # for testing purposes"
   ]
  },
  {
   "cell_type": "code",
   "execution_count": 6,
   "metadata": {},
   "outputs": [
    {
     "name": "stdout",
     "output_type": "stream",
     "text": [
      "here we are right now!\n"
     ]
    }
   ],
   "source": [
    "# always be sure that you are using the local version\n",
    "reload(sddk)\n",
    "sddk.test_package()"
   ]
  },
  {
   "cell_type": "markdown",
   "metadata": {},
   "source": [
    "# Configure personal session"
   ]
  },
  {
   "cell_type": "code",
   "execution_count": 18,
   "metadata": {},
   "outputs": [
    {
     "name": "stdin",
     "output_type": "stream",
     "text": [
      "sciencedata.dk username (format '123456@au.dk'):  648597@au.dk\n",
      "sciencedata.dk password:  ········\n"
     ]
    },
    {
     "name": "stdout",
     "output_type": "stream",
     "text": [
      "endpoint variable has been configured to: https://sciencedata.dk/files/\n"
     ]
    }
   ],
   "source": [
    "conf = sddk.configure()"
   ]
  },
  {
   "cell_type": "markdown",
   "metadata": {
    "colab_type": "text",
    "id": "PaFpJiRxkxee"
   },
   "source": [
    "# Testing write_file() and read_file()"
   ]
  },
  {
   "cell_type": "markdown",
   "metadata": {
    "colab_type": "text",
    "id": "8EBD8gTEFAfC"
   },
   "source": [
    "So far the function has been used with several different types of Python objects, like `str`, `list`, `dictionary`, Pandas' `dataframe` and Matplotlib's `figure`. These have been written either as `.txt`, `.json` or `.png`, `.feather`, based simply upon filename's ending chosen by the user. Here is a couple of examples of these objects in play:"
   ]
  },
  {
   "cell_type": "code",
   "execution_count": 16,
   "metadata": {
    "colab": {
     "base_uri": "https://localhost:8080/",
     "height": 265
    },
    "colab_type": "code",
    "executionInfo": {
     "elapsed": 862,
     "status": "ok",
     "timestamp": 1580672976544,
     "user": {
      "displayName": "Vojtěch Kaše",
      "photoUrl": "https://lh3.googleusercontent.com/a-/AAuE7mAxTlnyE78QMWq7qNrhY8cMOVti0SJqAGwQEptYkQ=s64",
      "userId": "01399835024022498543"
     },
     "user_tz": -60
    },
    "id": "bgoY7CirYEwh",
    "outputId": "f4692e6e-479e-4fed-d879-417162fdb41d"
   },
   "outputs": [
    {
     "data": {
      "image/png": "[encoded data removed]",
      "text/plain": [
       "<Figure size 432x288 with 1 Axes>"
      ]
     },
     "metadata": {
      "needs_background": "light"
     },
     "output_type": "display_data"
    }
   ],
   "source": [
    "### Python \"str\" object\n",
    "string_object =  \"string content for testing\"\n",
    "### Python \"list\" object\n",
    "list_object = ['a', 'b', 'c', 'd']\n",
    "### Python \"dictionary\" object\n",
    "dict_object = {\"a\" : 1, \"b\" : 2, \"c\":3 }\n",
    "### Pandas dataframe object\n",
    "import pandas as pd\n",
    "dataframe_object = pd.DataFrame([(\"a1\", \"b1\", \"c1\"), (\"a2\", \"b2\", \"c2\")], columns=[\"a\", \"b\", \"c\"]) "
   ]
  },
  {
   "cell_type": "markdown",
   "metadata": {},
   "source": [
    "## pandas.DataFrame to `.json` and back"
   ]
  },
  {
   "cell_type": "code",
   "execution_count": 4,
   "metadata": {},
   "outputs": [],
   "source": [
    "import pandas as pd\n",
    "dataframe_object = pd.DataFrame([(\"a1\", \"b1\", \"c1\"), (\"a2\", \"b2\", \"c2\")], columns=[\"a\", \"b\", \"c\"]) "
   ]
  },
  {
   "cell_type": "code",
   "execution_count": 5,
   "metadata": {},
   "outputs": [
    {
     "data": {
      "text/html": [
       "<div>\n",
       "<style scoped>\n",
       "    .dataframe tbody tr th:only-of-type {\n",
       "        vertical-align: middle;\n",
       "    }\n",
       "\n",
       "    .dataframe tbody tr th {\n",
       "        vertical-align: top;\n",
       "    }\n",
       "\n",
       "    .dataframe thead th {\n",
       "        text-align: right;\n",
       "    }\n",
       "</style>\n",
       "<table border=\"1\" class=\"dataframe\">\n",
       "  <thead>\n",
       "    <tr style=\"text-align: right;\">\n",
       "      <th></th>\n",
       "      <th>a</th>\n",
       "      <th>b</th>\n",
       "      <th>c</th>\n",
       "    </tr>\n",
       "  </thead>\n",
       "  <tbody>\n",
       "    <tr>\n",
       "      <th>0</th>\n",
       "      <td>a1</td>\n",
       "      <td>b1</td>\n",
       "      <td>c1</td>\n",
       "    </tr>\n",
       "    <tr>\n",
       "      <th>1</th>\n",
       "      <td>a2</td>\n",
       "      <td>b2</td>\n",
       "      <td>c2</td>\n",
       "    </tr>\n",
       "  </tbody>\n",
       "</table>\n",
       "</div>"
      ],
      "text/plain": [
       "    a   b   c\n",
       "0  a1  b1  c1\n",
       "1  a2  b2  c2"
      ]
     },
     "execution_count": 5,
     "metadata": {},
     "output_type": "execute_result"
    }
   ],
   "source": [
    "dataframe_object"
   ]
  },
  {
   "cell_type": "code",
   "execution_count": 8,
   "metadata": {},
   "outputs": [
    {
     "name": "stdout",
     "output_type": "stream",
     "text": [
      "A file with the same name (\"simple_dataframe.json\") already exists in this location.\n"
     ]
    },
    {
     "name": "stdin",
     "output_type": "stream",
     "text": [
      "Press Enter to overwrite it or choose different path and filename:  \n"
     ]
    },
    {
     "name": "stdout",
     "output_type": "stream",
     "text": [
      "Your <class 'pandas.core.frame.DataFrame'> object has been succefully written as \"https://sciencedata.dk/files/personal_folder/simple_dataframe.json\"\n"
     ]
    }
   ],
   "source": [
    "sddk.write_file(\"personal_folder/simple_dataframe.json\", dataframe_object, conf)"
   ]
  },
  {
   "cell_type": "code",
   "execution_count": 9,
   "metadata": {},
   "outputs": [
    {
     "data": {
      "text/html": [
       "<div>\n",
       "<style scoped>\n",
       "    .dataframe tbody tr th:only-of-type {\n",
       "        vertical-align: middle;\n",
       "    }\n",
       "\n",
       "    .dataframe tbody tr th {\n",
       "        vertical-align: top;\n",
       "    }\n",
       "\n",
       "    .dataframe thead th {\n",
       "        text-align: right;\n",
       "    }\n",
       "</style>\n",
       "<table border=\"1\" class=\"dataframe\">\n",
       "  <thead>\n",
       "    <tr style=\"text-align: right;\">\n",
       "      <th></th>\n",
       "      <th>a</th>\n",
       "      <th>b</th>\n",
       "      <th>c</th>\n",
       "    </tr>\n",
       "  </thead>\n",
       "  <tbody>\n",
       "    <tr>\n",
       "      <th>0</th>\n",
       "      <td>a1</td>\n",
       "      <td>b1</td>\n",
       "      <td>c1</td>\n",
       "    </tr>\n",
       "    <tr>\n",
       "      <th>1</th>\n",
       "      <td>a2</td>\n",
       "      <td>b2</td>\n",
       "      <td>c2</td>\n",
       "    </tr>\n",
       "  </tbody>\n",
       "</table>\n",
       "</div>"
      ],
      "text/plain": [
       "    a   b   c\n",
       "0  a1  b1  c1\n",
       "1  a2  b2  c2"
      ]
     },
     "execution_count": 9,
     "metadata": {},
     "output_type": "execute_result"
    }
   ],
   "source": [
    "sddk.read_file(\"personal_folder/simple_dataframe.json\", \"df\", conf)"
   ]
  },
  {
   "cell_type": "markdown",
   "metadata": {},
   "source": [
    "## pandas.DataFrame to `.feather` and back"
   ]
  },
  {
   "cell_type": "code",
   "execution_count": 113,
   "metadata": {},
   "outputs": [
    {
     "name": "stdout",
     "output_type": "stream",
     "text": [
      "A file with the same name (\"simple_dataframe.feather\") already exists in this location.\n"
     ]
    },
    {
     "name": "stdin",
     "output_type": "stream",
     "text": [
      "Press Enter to overwrite it or choose different path and filename:  \n"
     ]
    },
    {
     "name": "stdout",
     "output_type": "stream",
     "text": [
      "Your <class 'pandas.core.frame.DataFrame'> object has been succefully written as \"https://sciencedata.dk/files/personal_folder/simple_dataframe.feather\"\n"
     ]
    }
   ],
   "source": [
    "sddk.write_file(\"personal_folder/simple_dataframe.feather\", dataframe_object, conf)"
   ]
  },
  {
   "cell_type": "code",
   "execution_count": 122,
   "metadata": {},
   "outputs": [
    {
     "data": {
      "text/html": [
       "<div>\n",
       "<style scoped>\n",
       "    .dataframe tbody tr th:only-of-type {\n",
       "        vertical-align: middle;\n",
       "    }\n",
       "\n",
       "    .dataframe tbody tr th {\n",
       "        vertical-align: top;\n",
       "    }\n",
       "\n",
       "    .dataframe thead th {\n",
       "        text-align: right;\n",
       "    }\n",
       "</style>\n",
       "<table border=\"1\" class=\"dataframe\">\n",
       "  <thead>\n",
       "    <tr style=\"text-align: right;\">\n",
       "      <th></th>\n",
       "      <th>a</th>\n",
       "      <th>b</th>\n",
       "      <th>c</th>\n",
       "    </tr>\n",
       "  </thead>\n",
       "  <tbody>\n",
       "    <tr>\n",
       "      <th>0</th>\n",
       "      <td>a1</td>\n",
       "      <td>b1</td>\n",
       "      <td>c1</td>\n",
       "    </tr>\n",
       "    <tr>\n",
       "      <th>1</th>\n",
       "      <td>a2</td>\n",
       "      <td>b2</td>\n",
       "      <td>c2</td>\n",
       "    </tr>\n",
       "  </tbody>\n",
       "</table>\n",
       "</div>"
      ],
      "text/plain": [
       "    a   b   c\n",
       "0  a1  b1  c1\n",
       "1  a2  b2  c2"
      ]
     },
     "execution_count": 122,
     "metadata": {},
     "output_type": "execute_result"
    }
   ],
   "source": [
    "sddk.read_file(\"personal_folder/simple_dataframe.feather\", \"df\", conf)"
   ]
  },
  {
   "cell_type": "code",
   "execution_count": 225,
   "metadata": {},
   "outputs": [
    {
     "name": "stdout",
     "output_type": "stream",
     "text": [
      "this file is located in a public folder\n",
      "CPU times: user 344 ms, sys: 138 ms, total: 482 ms\n",
      "Wall time: 8.51 s\n"
     ]
    },
    {
     "data": {
      "text/html": [
       "<div>\n",
       "<style scoped>\n",
       "    .dataframe tbody tr th:only-of-type {\n",
       "        vertical-align: middle;\n",
       "    }\n",
       "\n",
       "    .dataframe tbody tr th {\n",
       "        vertical-align: top;\n",
       "    }\n",
       "\n",
       "    .dataframe thead th {\n",
       "        text-align: right;\n",
       "    }\n",
       "</style>\n",
       "<table border=\"1\" class=\"dataframe\">\n",
       "  <thead>\n",
       "    <tr style=\"text-align: right;\">\n",
       "      <th></th>\n",
       "      <th>diplomatic_text</th>\n",
       "      <th>literature</th>\n",
       "      <th>trismegistos_uri</th>\n",
       "      <th>id</th>\n",
       "      <th>findspot_ancient</th>\n",
       "      <th>not_before</th>\n",
       "      <th>type_of_inscription</th>\n",
       "      <th>work_status</th>\n",
       "      <th>edh_geography_uri</th>\n",
       "      <th>not_after</th>\n",
       "      <th>...</th>\n",
       "      <th>external_image_uris</th>\n",
       "      <th>religion</th>\n",
       "      <th>fotos</th>\n",
       "      <th>geography</th>\n",
       "      <th>military</th>\n",
       "      <th>social_economic_legal_history</th>\n",
       "      <th>coordinates</th>\n",
       "      <th>text_cleaned</th>\n",
       "      <th>origdate_text</th>\n",
       "      <th>objecttype</th>\n",
       "    </tr>\n",
       "  </thead>\n",
       "  <tbody>\n",
       "    <tr>\n",
       "      <th>0</th>\n",
       "      <td>D M / NONIAE P F OPTATAE / ET C IVLIO ARTEMONI...</td>\n",
       "      <td>AE 1983, 0192.; M. Annecchino, Puteoli 4/5, 19...</td>\n",
       "      <td>https://www.trismegistos.org/text/251193</td>\n",
       "      <td>HD000001</td>\n",
       "      <td>Cumae, bei</td>\n",
       "      <td>0071</td>\n",
       "      <td>epitaph</td>\n",
       "      <td>provisional</td>\n",
       "      <td>https://edh-www.adw.uni-heidelberg.de/edh/geog...</td>\n",
       "      <td>0130</td>\n",
       "      <td>...</td>\n",
       "      <td>NaN</td>\n",
       "      <td>None</td>\n",
       "      <td>NaN</td>\n",
       "      <td>None</td>\n",
       "      <td>None</td>\n",
       "      <td>None</td>\n",
       "      <td>40.8471577,14.0550756</td>\n",
       "      <td>Dis Manibus Noniae Publi filiae Optatae et Cai...</td>\n",
       "      <td>71 AD – 130 AD</td>\n",
       "      <td>NaN</td>\n",
       "    </tr>\n",
       "    <tr>\n",
       "      <th>1</th>\n",
       "      <td>C SEXTIVS PARIS / QVI VIXIT / ANNIS LXX</td>\n",
       "      <td>AE 1983, 0080. (A); A. Ferrua, RAL 36, 1981, 1...</td>\n",
       "      <td>https://www.trismegistos.org/text/265631</td>\n",
       "      <td>HD000002</td>\n",
       "      <td>Roma</td>\n",
       "      <td>0051</td>\n",
       "      <td>epitaph</td>\n",
       "      <td>no image</td>\n",
       "      <td>https://edh-www.adw.uni-heidelberg.de/edh/geog...</td>\n",
       "      <td>0200</td>\n",
       "      <td>...</td>\n",
       "      <td>NaN</td>\n",
       "      <td>None</td>\n",
       "      <td>NaN</td>\n",
       "      <td>None</td>\n",
       "      <td>None</td>\n",
       "      <td>None</td>\n",
       "      <td>41.895466,12.482324</td>\n",
       "      <td>Caius Sextius Paris qui vixit annis LXX       ...</td>\n",
       "      <td>51 AD – 200 AD</td>\n",
       "      <td>NaN</td>\n",
       "    </tr>\n",
       "    <tr>\n",
       "      <th>2</th>\n",
       "      <td>[ ]VMMIO [ ] / [ ]ISENNA[ ] / [ ] XV[ ] / [ ] / [</td>\n",
       "      <td>AE 1983, 0518. (B); J. González, ZPE 52, 1983,...</td>\n",
       "      <td>https://www.trismegistos.org/text/220675</td>\n",
       "      <td>HD000003</td>\n",
       "      <td>None</td>\n",
       "      <td>0131</td>\n",
       "      <td>honorific inscription</td>\n",
       "      <td>provisional</td>\n",
       "      <td>https://edh-www.adw.uni-heidelberg.de/edh/geog...</td>\n",
       "      <td>0170</td>\n",
       "      <td>...</td>\n",
       "      <td>NaN</td>\n",
       "      <td>None</td>\n",
       "      <td>NaN</td>\n",
       "      <td>None</td>\n",
       "      <td>None</td>\n",
       "      <td>None</td>\n",
       "      <td>37.37281,-6.04589</td>\n",
       "      <td>Publio Mummio Publi filio Galeria Sisennae Rut...</td>\n",
       "      <td>131 AD – 170 AD</td>\n",
       "      <td>NaN</td>\n",
       "    </tr>\n",
       "    <tr>\n",
       "      <th>3</th>\n",
       "      <td>[ ]AVS[ ]LLA / M PORCI NIGRI SER / DOMINAE VEN...</td>\n",
       "      <td>AE 1983, 0533. (B); A.U. Stylow, Gerión 1, 198...</td>\n",
       "      <td>https://www.trismegistos.org/text/222102</td>\n",
       "      <td>HD000004</td>\n",
       "      <td>Ipolcobulcula</td>\n",
       "      <td>0151</td>\n",
       "      <td>votive inscription</td>\n",
       "      <td>checked with photo</td>\n",
       "      <td>https://edh-www.adw.uni-heidelberg.de/edh/geog...</td>\n",
       "      <td>0200</td>\n",
       "      <td>...</td>\n",
       "      <td>NaN</td>\n",
       "      <td>names of pagan deities</td>\n",
       "      <td>NaN</td>\n",
       "      <td>None</td>\n",
       "      <td>None</td>\n",
       "      <td>None</td>\n",
       "      <td>37.4442,-4.27471</td>\n",
       "      <td>AVSLLA Marci Porci Nigri serva dominae Veneri ...</td>\n",
       "      <td>151 AD – 200 AD</td>\n",
       "      <td>NaN</td>\n",
       "    </tr>\n",
       "    <tr>\n",
       "      <th>4</th>\n",
       "      <td>[ ] L SVCCESSVS / [ ] L L IRENAEVS / [ ] C L T...</td>\n",
       "      <td>AE 1983, 0078. (B); A. Ferrua, RAL 36, 1981, 1...</td>\n",
       "      <td>https://www.trismegistos.org/text/265629</td>\n",
       "      <td>HD000005</td>\n",
       "      <td>Roma</td>\n",
       "      <td>0001</td>\n",
       "      <td>epitaph</td>\n",
       "      <td>no image</td>\n",
       "      <td>https://edh-www.adw.uni-heidelberg.de/edh/geog...</td>\n",
       "      <td>0200</td>\n",
       "      <td>...</td>\n",
       "      <td>NaN</td>\n",
       "      <td>None</td>\n",
       "      <td>NaN</td>\n",
       "      <td>None</td>\n",
       "      <td>None</td>\n",
       "      <td>None</td>\n",
       "      <td>41.895466,12.482324</td>\n",
       "      <td>libertus Successus  Luci libertus Irenaeus  C...</td>\n",
       "      <td>1 AD – 200 AD</td>\n",
       "      <td>NaN</td>\n",
       "    </tr>\n",
       "  </tbody>\n",
       "</table>\n",
       "<p>5 rows × 40 columns</p>\n",
       "</div>"
      ],
      "text/plain": [
       "                                     diplomatic_text  \\\n",
       "0  D M / NONIAE P F OPTATAE / ET C IVLIO ARTEMONI...   \n",
       "1            C SEXTIVS PARIS / QVI VIXIT / ANNIS LXX   \n",
       "2  [ ]VMMIO [ ] / [ ]ISENNA[ ] / [ ] XV[ ] / [ ] / [   \n",
       "3  [ ]AVS[ ]LLA / M PORCI NIGRI SER / DOMINAE VEN...   \n",
       "4  [ ] L SVCCESSVS / [ ] L L IRENAEVS / [ ] C L T...   \n",
       "\n",
       "                                          literature  \\\n",
       "0  AE 1983, 0192.; M. Annecchino, Puteoli 4/5, 19...   \n",
       "1  AE 1983, 0080. (A); A. Ferrua, RAL 36, 1981, 1...   \n",
       "2  AE 1983, 0518. (B); J. González, ZPE 52, 1983,...   \n",
       "3  AE 1983, 0533. (B); A.U. Stylow, Gerión 1, 198...   \n",
       "4  AE 1983, 0078. (B); A. Ferrua, RAL 36, 1981, 1...   \n",
       "\n",
       "                           trismegistos_uri        id findspot_ancient  \\\n",
       "0  https://www.trismegistos.org/text/251193  HD000001       Cumae, bei   \n",
       "1  https://www.trismegistos.org/text/265631  HD000002             Roma   \n",
       "2  https://www.trismegistos.org/text/220675  HD000003             None   \n",
       "3  https://www.trismegistos.org/text/222102  HD000004    Ipolcobulcula   \n",
       "4  https://www.trismegistos.org/text/265629  HD000005             Roma   \n",
       "\n",
       "  not_before    type_of_inscription         work_status  \\\n",
       "0       0071                epitaph         provisional   \n",
       "1       0051                epitaph            no image   \n",
       "2       0131  honorific inscription         provisional   \n",
       "3       0151     votive inscription  checked with photo   \n",
       "4       0001                epitaph            no image   \n",
       "\n",
       "                                   edh_geography_uri not_after  ...  \\\n",
       "0  https://edh-www.adw.uni-heidelberg.de/edh/geog...      0130  ...   \n",
       "1  https://edh-www.adw.uni-heidelberg.de/edh/geog...      0200  ...   \n",
       "2  https://edh-www.adw.uni-heidelberg.de/edh/geog...      0170  ...   \n",
       "3  https://edh-www.adw.uni-heidelberg.de/edh/geog...      0200  ...   \n",
       "4  https://edh-www.adw.uni-heidelberg.de/edh/geog...      0200  ...   \n",
       "\n",
       "  external_image_uris                religion fotos geography military  \\\n",
       "0                 NaN                    None   NaN      None     None   \n",
       "1                 NaN                    None   NaN      None     None   \n",
       "2                 NaN                    None   NaN      None     None   \n",
       "3                 NaN  names of pagan deities   NaN      None     None   \n",
       "4                 NaN                    None   NaN      None     None   \n",
       "\n",
       "  social_economic_legal_history            coordinates  \\\n",
       "0                          None  40.8471577,14.0550756   \n",
       "1                          None    41.895466,12.482324   \n",
       "2                          None      37.37281,-6.04589   \n",
       "3                          None       37.4442,-4.27471   \n",
       "4                          None    41.895466,12.482324   \n",
       "\n",
       "                                        text_cleaned  \\\n",
       "0  Dis Manibus Noniae Publi filiae Optatae et Cai...   \n",
       "1  Caius Sextius Paris qui vixit annis LXX       ...   \n",
       "2  Publio Mummio Publi filio Galeria Sisennae Rut...   \n",
       "3  AVSLLA Marci Porci Nigri serva dominae Veneri ...   \n",
       "4   libertus Successus  Luci libertus Irenaeus  C...   \n",
       "\n",
       "                                 origdate_text objecttype  \n",
       "0   71 AD – 130 AD                                    NaN  \n",
       "1   51 AD – 200 AD                                    NaN  \n",
       "2  131 AD – 170 AD                                    NaN  \n",
       "3  151 AD – 200 AD                                    NaN  \n",
       "4    1 AD – 200 AD                                    NaN  \n",
       "\n",
       "[5 rows x 40 columns]"
      ]
     },
     "execution_count": 225,
     "metadata": {},
     "output_type": "execute_result"
    }
   ],
   "source": [
    "%%time\n",
    "EDH_sample = sddk.read_file(\"EDH_sample.feather\", \"df\", \"8fe7d59de1eafe5f8eaebc0044534606\")\n",
    "EDH_sample.head(5)"
   ]
  },
  {
   "cell_type": "code",
   "execution_count": 124,
   "metadata": {},
   "outputs": [
    {
     "name": "stdout",
     "output_type": "stream",
     "text": [
      "A file with the same name (\"EDH_sample.feather\") already exists in this location.\n"
     ]
    },
    {
     "name": "stdin",
     "output_type": "stream",
     "text": [
      "Press Enter to overwrite it or choose different path and filename:  \n"
     ]
    },
    {
     "name": "stdout",
     "output_type": "stream",
     "text": [
      "Your <class 'pandas.core.frame.DataFrame'> object has been succefully written as \"https://sciencedata.dk/files/personal_folder/EDH_sample.feather\"\n"
     ]
    }
   ],
   "source": [
    "sddk.write_file(\"personal_folder/EDH_sample.feather\", EDH_sample, conf)"
   ]
  },
  {
   "cell_type": "markdown",
   "metadata": {},
   "source": [
    "## pandas.DataFrame to `.csv` and back "
   ]
  },
  {
   "cell_type": "code",
   "execution_count": 176,
   "metadata": {},
   "outputs": [
    {
     "data": {
      "text/html": [
       "<div>\n",
       "<style scoped>\n",
       "    .dataframe tbody tr th:only-of-type {\n",
       "        vertical-align: middle;\n",
       "    }\n",
       "\n",
       "    .dataframe tbody tr th {\n",
       "        vertical-align: top;\n",
       "    }\n",
       "\n",
       "    .dataframe thead th {\n",
       "        text-align: right;\n",
       "    }\n",
       "</style>\n",
       "<table border=\"1\" class=\"dataframe\">\n",
       "  <thead>\n",
       "    <tr style=\"text-align: right;\">\n",
       "      <th></th>\n",
       "      <th>a</th>\n",
       "      <th>b</th>\n",
       "      <th>c</th>\n",
       "    </tr>\n",
       "  </thead>\n",
       "  <tbody>\n",
       "    <tr>\n",
       "      <th>0</th>\n",
       "      <td>a1</td>\n",
       "      <td>b1</td>\n",
       "      <td>c1</td>\n",
       "    </tr>\n",
       "    <tr>\n",
       "      <th>1</th>\n",
       "      <td>a2</td>\n",
       "      <td>b2</td>\n",
       "      <td>c2</td>\n",
       "    </tr>\n",
       "  </tbody>\n",
       "</table>\n",
       "</div>"
      ],
      "text/plain": [
       "    a   b   c\n",
       "0  a1  b1  c1\n",
       "1  a2  b2  c2"
      ]
     },
     "execution_count": 176,
     "metadata": {},
     "output_type": "execute_result"
    }
   ],
   "source": [
    "import pandas as pd\n",
    "dataframe_object = pd.DataFrame([(\"a1\", \"b1\", \"c1\"), (\"a2\", \"b2\", \"c2\")], columns=[\"a\", \"b\", \"c\"]) \n",
    "dataframe_object"
   ]
  },
  {
   "cell_type": "code",
   "execution_count": 177,
   "metadata": {},
   "outputs": [
    {
     "name": "stdout",
     "output_type": "stream",
     "text": [
      "A file with the same name (\"simple_dataframe.csv\") already exists in this location.\n"
     ]
    },
    {
     "name": "stdin",
     "output_type": "stream",
     "text": [
      "Press Enter to overwrite it or choose different path and filename:  \n"
     ]
    },
    {
     "name": "stdout",
     "output_type": "stream",
     "text": [
      "Your <class 'pandas.core.frame.DataFrame'> object has been succefully written as \"https://sciencedata.dk/files/personal_folder/simple_dataframe.csv\"\n"
     ]
    }
   ],
   "source": [
    "sddk.write_file(\"personal_folder/simple_dataframe.csv\", dataframe_object, conf)"
   ]
  },
  {
   "cell_type": "code",
   "execution_count": 178,
   "metadata": {},
   "outputs": [
    {
     "data": {
      "text/html": [
       "<div>\n",
       "<style scoped>\n",
       "    .dataframe tbody tr th:only-of-type {\n",
       "        vertical-align: middle;\n",
       "    }\n",
       "\n",
       "    .dataframe tbody tr th {\n",
       "        vertical-align: top;\n",
       "    }\n",
       "\n",
       "    .dataframe thead th {\n",
       "        text-align: right;\n",
       "    }\n",
       "</style>\n",
       "<table border=\"1\" class=\"dataframe\">\n",
       "  <thead>\n",
       "    <tr style=\"text-align: right;\">\n",
       "      <th></th>\n",
       "      <th>a</th>\n",
       "      <th>b</th>\n",
       "      <th>c</th>\n",
       "    </tr>\n",
       "  </thead>\n",
       "  <tbody>\n",
       "    <tr>\n",
       "      <th>0</th>\n",
       "      <td>a1</td>\n",
       "      <td>b1</td>\n",
       "      <td>c1</td>\n",
       "    </tr>\n",
       "    <tr>\n",
       "      <th>1</th>\n",
       "      <td>a2</td>\n",
       "      <td>b2</td>\n",
       "      <td>c2</td>\n",
       "    </tr>\n",
       "  </tbody>\n",
       "</table>\n",
       "</div>"
      ],
      "text/plain": [
       "    a   b   c\n",
       "0  a1  b1  c1\n",
       "1  a2  b2  c2"
      ]
     },
     "execution_count": 178,
     "metadata": {},
     "output_type": "execute_result"
    }
   ],
   "source": [
    "sddk.read_file(\"personal_folder/simple_dataframe.csv\", \"df\", conf)"
   ]
  },
  {
   "cell_type": "markdown",
   "metadata": {},
   "source": [
    "## String to .txt and back"
   ]
  },
  {
   "cell_type": "code",
   "execution_count": null,
   "metadata": {},
   "outputs": [],
   "source": [
    "### Python \"str\" object\n",
    "string_object =  \"string content for testing\""
   ]
  },
  {
   "cell_type": "code",
   "execution_count": 17,
   "metadata": {
    "colab": {},
    "colab_type": "code",
    "id": "elit-u3qLjxE"
   },
   "outputs": [
    {
     "name": "stdout",
     "output_type": "stream",
     "text": [
      "A file with the same name (\"test_string.txt\") already exists in this location.\n"
     ]
    },
    {
     "name": "stdin",
     "output_type": "stream",
     "text": [
      "Press Enter to overwrite it or choose different path and filename:  \n"
     ]
    },
    {
     "name": "stdout",
     "output_type": "stream",
     "text": [
      "Something went wrong. Check path, filename and object.\n"
     ]
    }
   ],
   "source": [
    "# write the file\n",
    "sddk.write_file(\"personal_folder/test_string.txt\", string_object, conf)"
   ]
  },
  {
   "cell_type": "code",
   "execution_count": 26,
   "metadata": {},
   "outputs": [
    {
     "data": {
      "text/plain": [
       "'string content for testing'"
      ]
     },
     "execution_count": 26,
     "metadata": {},
     "output_type": "execute_result"
    }
   ],
   "source": [
    "# read it back\n",
    "string_object = sddk.read_file(\"personal_folder/test_string.txt\", \"str\", conf)\n",
    "string_object"
   ]
  },
  {
   "cell_type": "markdown",
   "metadata": {},
   "source": [
    "## Avoiding misspelling in filenames etc."
   ]
  },
  {
   "cell_type": "markdown",
   "metadata": {},
   "source": [
    "The package attempts to help you avoid mispellings, so it warns if you make a nonsense. "
   ]
  },
  {
   "cell_type": "code",
   "execution_count": 8,
   "metadata": {
    "colab": {
     "base_uri": "https://localhost:8080/",
     "height": 102
    },
    "colab_type": "code",
    "executionInfo": {
     "elapsed": 47454,
     "status": "ok",
     "timestamp": 1580671300859,
     "user": {
      "displayName": "Vojtěch Kaše",
      "photoUrl": "https://lh3.googleusercontent.com/a-/AAuE7mAxTlnyE78QMWq7qNrhY8cMOVti0SJqAGwQEptYkQ=s64",
      "userId": "01399835024022498543"
     },
     "user_tz": -60
    },
    "id": "EWKUz2KXMpM3",
    "outputId": "bfff39fc-d28d-4b2d-fbdb-6e923f9f846c"
   },
   "outputs": [
    {
     "name": "stdin",
     "output_type": "stream",
     "text": [
      "The path is not valid. Try different path and filename:  \n"
     ]
    },
    {
     "name": "stdout",
     "output_type": "stream",
     "text": [
      "A file with the same name (\"\") already exists in this location.\n"
     ]
    },
    {
     "name": "stdin",
     "output_type": "stream",
     "text": [
      "Press Enter to overwrite it or choose different path and filename:  \n",
      "Unsupported file format. Type either \"txt\", \"csv\", \"json\", \"feather\", or \"png\":  \n"
     ]
    },
    {
     "name": "stdout",
     "output_type": "stream",
     "text": [
      "Something went wrong. Check path, filename and object.\n"
     ]
    }
   ],
   "source": [
    "sddk.write_file(\"nonexistent_folder/textfile.wtf\", string_object, conf)"
   ]
  },
  {
   "cell_type": "markdown",
   "metadata": {},
   "source": [
    "## List to .json and back"
   ]
  },
  {
   "cell_type": "code",
   "execution_count": 44,
   "metadata": {},
   "outputs": [],
   "source": [
    "### Python \"list\" object\n",
    "list_object = ['a', 'b', 'c', 'd']"
   ]
  },
  {
   "cell_type": "code",
   "execution_count": 46,
   "metadata": {
    "colab": {
     "base_uri": "https://localhost:8080/",
     "height": 34
    },
    "colab_type": "code",
    "executionInfo": {
     "elapsed": 2456,
     "status": "ok",
     "timestamp": 1580671939538,
     "user": {
      "displayName": "Vojtěch Kaše",
      "photoUrl": "https://lh3.googleusercontent.com/a-/AAuE7mAxTlnyE78QMWq7qNrhY8cMOVti0SJqAGwQEptYkQ=s64",
      "userId": "01399835024022498543"
     },
     "user_tz": -60
    },
    "id": "SZVsf69fGbi_",
    "outputId": "e8acdaca-f5e3-456f-f1e5-1f60666a6a9f"
   },
   "outputs": [
    {
     "name": "stdout",
     "output_type": "stream",
     "text": [
      "Your <class 'list'> object has been succefully written as \"https://sciencedata.dk/files/personal_folder/simple_list.json\"\n"
     ]
    }
   ],
   "source": [
    "sddk.write_file(\"personal_folder/simple_list.json\", list_object, conf)"
   ]
  },
  {
   "cell_type": "code",
   "execution_count": 54,
   "metadata": {},
   "outputs": [
    {
     "data": {
      "text/plain": [
       "['a', 'b', 'c', 'd']"
      ]
     },
     "execution_count": 54,
     "metadata": {},
     "output_type": "execute_result"
    }
   ],
   "source": [
    "sddk.read_file(\"personal_folder/simple_list.json\", \"list\", conf)"
   ]
  },
  {
   "cell_type": "markdown",
   "metadata": {
    "colab_type": "text",
    "id": "lC1ZDRK7Gg5r"
   },
   "source": [
    "## Dictionary to .json and back\n"
   ]
  },
  {
   "cell_type": "code",
   "execution_count": 179,
   "metadata": {},
   "outputs": [],
   "source": [
    "### Python \"dictionary\" object\n",
    "dict_object = {\"a\" : 1, \"b\" : 2, \"c\":3 }"
   ]
  },
  {
   "cell_type": "code",
   "execution_count": 180,
   "metadata": {
    "colab": {
     "base_uri": "https://localhost:8080/",
     "height": 34
    },
    "colab_type": "code",
    "executionInfo": {
     "elapsed": 2356,
     "status": "ok",
     "timestamp": 1580672989818,
     "user": {
      "displayName": "Vojtěch Kaše",
      "photoUrl": "https://lh3.googleusercontent.com/a-/AAuE7mAxTlnyE78QMWq7qNrhY8cMOVti0SJqAGwQEptYkQ=s64",
      "userId": "01399835024022498543"
     },
     "user_tz": -60
    },
    "id": "BM6STSKuY-6r",
    "outputId": "c4a6078d-36ac-44b6-b95c-a83859a121a5"
   },
   "outputs": [
    {
     "name": "stdout",
     "output_type": "stream",
     "text": [
      "A file with the same name (\"simple_dict.json\") already exists in this location.\n"
     ]
    },
    {
     "name": "stdin",
     "output_type": "stream",
     "text": [
      "Press Enter to overwrite it or choose different path and filename:  \n"
     ]
    },
    {
     "name": "stdout",
     "output_type": "stream",
     "text": [
      "Your <class 'dict'> object has been succefully written as \"https://sciencedata.dk/files/personal_folder/simple_dict.json\"\n"
     ]
    }
   ],
   "source": [
    "sddk.write_file(\"personal_folder/simple_dict.json\", dict_object, conf)"
   ]
  },
  {
   "cell_type": "code",
   "execution_count": 181,
   "metadata": {
    "colab": {
     "base_uri": "https://localhost:8080/",
     "height": 34
    },
    "colab_type": "code",
    "executionInfo": {
     "elapsed": 2707,
     "status": "ok",
     "timestamp": 1580673524673,
     "user": {
      "displayName": "Vojtěch Kaše",
      "photoUrl": "https://lh3.googleusercontent.com/a-/AAuE7mAxTlnyE78QMWq7qNrhY8cMOVti0SJqAGwQEptYkQ=s64",
      "userId": "01399835024022498543"
     },
     "user_tz": -60
    },
    "id": "SX7VavEme089",
    "outputId": "ca458339-5253-4962-e3d0-8981aec72bc8"
   },
   "outputs": [
    {
     "data": {
      "text/plain": [
       "{'a': 1, 'b': 2, 'c': 3}"
      ]
     },
     "execution_count": 181,
     "metadata": {},
     "output_type": "execute_result"
    }
   ],
   "source": [
    "sddk.read_file(\"personal_folder/simple_dict.json\", \"dict\", conf)"
   ]
  },
  {
   "cell_type": "markdown",
   "metadata": {},
   "source": [
    "## matplotlib.Figure as `.png`"
   ]
  },
  {
   "cell_type": "code",
   "execution_count": 208,
   "metadata": {},
   "outputs": [
    {
     "data": {
      "text/plain": [
       "[<matplotlib.lines.Line2D at 0x11f32c400>]"
      ]
     },
     "execution_count": 208,
     "metadata": {},
     "output_type": "execute_result"
    },
    {
     "data": {
      "image/png": "[encoded data removed]",
      "text/plain": [
       "<Figure size 432x288 with 1 Axes>"
      ]
     },
     "metadata": {
      "needs_background": "light"
     },
     "output_type": "display_data"
    }
   ],
   "source": [
    "### Matplotlib figure object\n",
    "import matplotlib.pyplot as plt\n",
    "figure_object = plt.figure() # generate object\n",
    "plt.plot(range(10)) # fill it by plotted values"
   ]
  },
  {
   "cell_type": "code",
   "execution_count": 209,
   "metadata": {},
   "outputs": [
    {
     "name": "stdout",
     "output_type": "stream",
     "text": [
      "Your <class 'matplotlib.figure.Figure'> object has been succefully written as \"https://sciencedata.dk/files/personal_folder/fig.png\"\n"
     ]
    }
   ],
   "source": [
    "sddk.write_file(\"personal_folder/fig.png\", figure_object, conf)"
   ]
  },
  {
   "cell_type": "markdown",
   "metadata": {
    "colab_type": "text",
    "id": "AXwFDKJxsf2i"
   },
   "source": [
    "# Accessing shared folders"
   ]
  },
  {
   "cell_type": "code",
   "execution_count": 183,
   "metadata": {
    "colab": {
     "base_uri": "https://localhost:8080/",
     "height": 85
    },
    "colab_type": "code",
    "executionInfo": {
     "elapsed": 12754,
     "status": "ok",
     "timestamp": 1580652419176,
     "user": {
      "displayName": "Vojtěch Kaše",
      "photoUrl": "https://lh3.googleusercontent.com/a-/AAuE7mAxTlnyE78QMWq7qNrhY8cMOVti0SJqAGwQEptYkQ=s64",
      "userId": "01399835024022498543"
     },
     "user_tz": -60
    },
    "id": "RX2vwK9pxJYp",
    "outputId": "f6aeaf37-7677-48d1-d59b-f4282a4db2d0"
   },
   "outputs": [
    {
     "name": "stdin",
     "output_type": "stream",
     "text": [
      "sciencedata.dk username (format '123456@au.dk'):  648597@au.dk\n",
      "sciencedata.dk password:  ········\n"
     ]
    },
    {
     "name": "stdout",
     "output_type": "stream",
     "text": [
      "connection with shared folder established with you as its owner\n",
      "endpoint variable has been configured to: https://sciencedata.dk/files/TEST_shared_folder/\n"
     ]
    }
   ],
   "source": [
    "# AS FOLDER OWNER\n",
    "\n",
    "### configure a session with endpoint in the shared folder\n",
    "### (login as group owner)\n",
    "conf = sddk.configure(\"TEST_shared_folder\", \"648597@au.dk\")"
   ]
  },
  {
   "cell_type": "code",
   "execution_count": 184,
   "metadata": {
    "colab": {
     "base_uri": "https://localhost:8080/",
     "height": 35
    },
    "colab_type": "code",
    "executionInfo": {
     "elapsed": 5710,
     "status": "ok",
     "timestamp": 1579082791879,
     "user": {
      "displayName": "Vojtěch Kaše",
      "photoUrl": "https://lh3.googleusercontent.com/a-/AAuE7mAxTlnyE78QMWq7qNrhY8cMOVti0SJqAGwQEptYkQ=s64",
      "userId": "01399835024022498543"
     },
     "user_tz": -60
    },
    "id": "BTbHkjSQqnz7",
    "outputId": "337d4161-ba43-43f1-de5c-de9e66c23dd9"
   },
   "outputs": [
    {
     "data": {
      "text/html": [
       "<div>\n",
       "<style scoped>\n",
       "    .dataframe tbody tr th:only-of-type {\n",
       "        vertical-align: middle;\n",
       "    }\n",
       "\n",
       "    .dataframe tbody tr th {\n",
       "        vertical-align: top;\n",
       "    }\n",
       "\n",
       "    .dataframe thead th {\n",
       "        text-align: right;\n",
       "    }\n",
       "</style>\n",
       "<table border=\"1\" class=\"dataframe\">\n",
       "  <thead>\n",
       "    <tr style=\"text-align: right;\">\n",
       "      <th></th>\n",
       "      <th>a</th>\n",
       "      <th>b</th>\n",
       "      <th>c</th>\n",
       "    </tr>\n",
       "  </thead>\n",
       "  <tbody>\n",
       "    <tr>\n",
       "      <th>0</th>\n",
       "      <td>a1</td>\n",
       "      <td>b1</td>\n",
       "      <td>c1</td>\n",
       "    </tr>\n",
       "    <tr>\n",
       "      <th>1</th>\n",
       "      <td>a2</td>\n",
       "      <td>b2</td>\n",
       "      <td>c2</td>\n",
       "    </tr>\n",
       "  </tbody>\n",
       "</table>\n",
       "</div>"
      ],
      "text/plain": [
       "    a   b   c\n",
       "0  a1  b1  c1\n",
       "1  a2  b2  c2"
      ]
     },
     "execution_count": 184,
     "metadata": {},
     "output_type": "execute_result"
    }
   ],
   "source": [
    "import pandas as pd\n",
    "dataframe_object = pd.DataFrame([(\"a1\", \"b1\", \"c1\"), (\"a2\", \"b2\", \"c2\")], columns=[\"a\", \"b\", \"c\"]) \n",
    "dataframe_object"
   ]
  },
  {
   "cell_type": "code",
   "execution_count": 185,
   "metadata": {},
   "outputs": [
    {
     "name": "stdout",
     "output_type": "stream",
     "text": [
      "Your <class 'pandas.core.frame.DataFrame'> object has been succefully written as \"https://sciencedata.dk/files/TEST_shared_folder/simple_dataframe.json\"\n"
     ]
    }
   ],
   "source": [
    "sddk.write_file(\"simple_dataframe.json\", dataframe_object, conf)"
   ]
  },
  {
   "cell_type": "code",
   "execution_count": 186,
   "metadata": {},
   "outputs": [
    {
     "data": {
      "text/html": [
       "<div>\n",
       "<style scoped>\n",
       "    .dataframe tbody tr th:only-of-type {\n",
       "        vertical-align: middle;\n",
       "    }\n",
       "\n",
       "    .dataframe tbody tr th {\n",
       "        vertical-align: top;\n",
       "    }\n",
       "\n",
       "    .dataframe thead th {\n",
       "        text-align: right;\n",
       "    }\n",
       "</style>\n",
       "<table border=\"1\" class=\"dataframe\">\n",
       "  <thead>\n",
       "    <tr style=\"text-align: right;\">\n",
       "      <th></th>\n",
       "      <th>a</th>\n",
       "      <th>b</th>\n",
       "      <th>c</th>\n",
       "    </tr>\n",
       "  </thead>\n",
       "  <tbody>\n",
       "    <tr>\n",
       "      <th>0</th>\n",
       "      <td>a1</td>\n",
       "      <td>b1</td>\n",
       "      <td>c1</td>\n",
       "    </tr>\n",
       "    <tr>\n",
       "      <th>1</th>\n",
       "      <td>a2</td>\n",
       "      <td>b2</td>\n",
       "      <td>c2</td>\n",
       "    </tr>\n",
       "  </tbody>\n",
       "</table>\n",
       "</div>"
      ],
      "text/plain": [
       "    a   b   c\n",
       "0  a1  b1  c1\n",
       "1  a2  b2  c2"
      ]
     },
     "execution_count": 186,
     "metadata": {},
     "output_type": "execute_result"
    }
   ],
   "source": [
    "sddk.read_file(\"simple_dataframe.json\", \"df\", conf)"
   ]
  },
  {
   "cell_type": "code",
   "execution_count": 187,
   "metadata": {
    "colab": {
     "base_uri": "https://localhost:8080/",
     "height": 86
    },
    "colab_type": "code",
    "executionInfo": {
     "elapsed": 14863,
     "status": "ok",
     "timestamp": 1579689278018,
     "user": {
      "displayName": "Vojtěch Kaše",
      "photoUrl": "https://lh3.googleusercontent.com/a-/AAuE7mAxTlnyE78QMWq7qNrhY8cMOVti0SJqAGwQEptYkQ=s64",
      "userId": "01399835024022498543"
     },
     "user_tz": -60
    },
    "id": "l6GbkjZLqbSd",
    "outputId": "4f4971f3-dcf3-4368-856e-ba832085b62a"
   },
   "outputs": [
    {
     "name": "stdin",
     "output_type": "stream",
     "text": [
      "sciencedata.dk username (format '123456@au.dk'):  kase@zcu.cz\n",
      "sciencedata.dk password:  ········\n"
     ]
    },
    {
     "name": "stdout",
     "output_type": "stream",
     "text": [
      "connection with shared folder established with you as its ordinary user\n",
      "endpoint variable has been configured to: https://sciencedata.dk/sharingout/648597%40au.dk/TEST_shared_folder/\n"
     ]
    }
   ],
   "source": [
    "# AS ORDINARY USER (case 1)\n",
    "\n",
    "### configure a session with endpoint in the shared folder\n",
    "### (login as ordinary user)\n",
    "conf = sddk.configure(\"TEST_shared_folder\", \"648597@au.dk\")"
   ]
  },
  {
   "cell_type": "code",
   "execution_count": 189,
   "metadata": {
    "colab": {},
    "colab_type": "code",
    "id": "oRI0k0jGqyDb"
   },
   "outputs": [
    {
     "data": {
      "text/html": [
       "<div>\n",
       "<style scoped>\n",
       "    .dataframe tbody tr th:only-of-type {\n",
       "        vertical-align: middle;\n",
       "    }\n",
       "\n",
       "    .dataframe tbody tr th {\n",
       "        vertical-align: top;\n",
       "    }\n",
       "\n",
       "    .dataframe thead th {\n",
       "        text-align: right;\n",
       "    }\n",
       "</style>\n",
       "<table border=\"1\" class=\"dataframe\">\n",
       "  <thead>\n",
       "    <tr style=\"text-align: right;\">\n",
       "      <th></th>\n",
       "      <th>a</th>\n",
       "      <th>b</th>\n",
       "      <th>c</th>\n",
       "    </tr>\n",
       "  </thead>\n",
       "  <tbody>\n",
       "    <tr>\n",
       "      <th>0</th>\n",
       "      <td>a1</td>\n",
       "      <td>b1</td>\n",
       "      <td>c1</td>\n",
       "    </tr>\n",
       "    <tr>\n",
       "      <th>1</th>\n",
       "      <td>a2</td>\n",
       "      <td>b2</td>\n",
       "      <td>c2</td>\n",
       "    </tr>\n",
       "  </tbody>\n",
       "</table>\n",
       "</div>"
      ],
      "text/plain": [
       "    a   b   c\n",
       "0  a1  b1  c1\n",
       "1  a2  b2  c2"
      ]
     },
     "execution_count": 189,
     "metadata": {},
     "output_type": "execute_result"
    }
   ],
   "source": [
    "### access the shared folder as an ordinary user\n",
    "simple_dataframe = sddk.read_file(\"simple_dataframe.json\", \"df\", conf)\n",
    "simple_dataframe"
   ]
  },
  {
   "cell_type": "code",
   "execution_count": 190,
   "metadata": {},
   "outputs": [
    {
     "name": "stdout",
     "output_type": "stream",
     "text": [
      "Your <class 'pandas.core.frame.DataFrame'> object has been succefully written as \"https://sciencedata.dk/sharingout/648597%40au.dk/TEST_shared_folder/dataframe_from_user.json\"\n"
     ]
    }
   ],
   "source": [
    "sddk.write_file(\"dataframe_from_user.json\", simple_dataframe, conf)"
   ]
  },
  {
   "cell_type": "markdown",
   "metadata": {},
   "source": [
    "# Accessing files in public folders"
   ]
  },
  {
   "cell_type": "code",
   "execution_count": 211,
   "metadata": {},
   "outputs": [
    {
     "name": "stdout",
     "output_type": "stream",
     "text": [
      "this is a publicly shared file\n"
     ]
    }
   ],
   "source": [
    "gospels_cleaned = sddk.read_file(\"https://sciencedata.dk/public/3e0a55a4182de313e04523360cecd015\", \"dict\")"
   ]
  },
  {
   "cell_type": "code",
   "execution_count": null,
   "metadata": {},
   "outputs": [],
   "source": [
    "c_aristotelicum = sddk.read_file(\"c_aristotelicum.json\", \"df\", \"31b393e2afe1ee96ce81869c7efe18cb\")"
   ]
  },
  {
   "cell_type": "code",
   "execution_count": null,
   "metadata": {},
   "outputs": [],
   "source": [
    "c_aristotelicum.head(5)"
   ]
  }
 ],
 "metadata": {
  "colab": {
   "collapsed_sections": [],
   "name": "sddk_playground.ipynb",
   "provenance": []
  },
  "kernelspec": {
   "display_name": "Python 3",
   "language": "python",
   "name": "python3"
  },
  "language_info": {
   "codemirror_mode": {
    "name": "ipython",
    "version": 3
   },
   "file_extension": ".py",
   "mimetype": "text/x-python",
   "name": "python",
   "nbconvert_exporter": "python",
   "pygments_lexer": "ipython3",
   "version": "3.6.8"
  }
 },
 "nbformat": 4,
 "nbformat_minor": 4
}
